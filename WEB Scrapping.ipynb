{
 "cells": [
  {
   "cell_type": "markdown",
   "id": "e30a5a5b",
   "metadata": {},
   "source": [
    "## Scrape filpkart website and  fetch details \n",
    "Name of the product,price and ratings of the product..."
   ]
  },
  {
   "cell_type": "code",
   "execution_count": 124,
   "id": "ca907c9b",
   "metadata": {},
   "outputs": [],
   "source": [
    "## building scrappers which looks for errors also..\n",
    "import requests as response\n",
    "from bs4 import BeautifulSoup as soup\n",
    "url=\"https://www.flipkart.com/mobiles/pr?sid=tyy%2C4io&param=7564&ctx=eyJjYXJkQ29udGV4dCI6eyJhdHRyaWJ1dGVzIjp7InRpdGxlIjp7Im11bHRpVmFsdWVkQXR0cmlidXRlIjp7ImtleSI6InRpdGxlIiwiaW5mZXJlbmNlVHlwZSI6IlRJVExFIiwidmFsdWVzIjpbIlNob3AgTm93Il0sInZhbHVlVHlwZSI6Ik1VTFRJX1ZBTFVFRCJ9fX19fQ%3D%3D&otracker=clp_metro_expandable_1_3.metroExpandable.METRO_EXPANDABLE_Shop%2BNow_mobile-phones-store_Q1PDG4YW86MF_wp2&fm=neo%2Fmerchandising&iid=M_30199dbb-60d6-43fb-bd27-4821f8e573a1_3.Q1PDG4YW86MF&ppt=hp&ppn=homepage&ssid=dx9lb7york0000001667311760268&page=2\"\n",
    "##https://www.flipkart.com/mobiles/pr?sid=tyy%2C4io&param=7564&ctx=eyJjYXJkQ29udGV4dCI6eyJhdHRyaWJ1dGVzIjp7InRpdGxlIjp7Im11bHRpVmFsdWVkQXR0cmlidXRlIjp7ImtleSI6InRpdGxlIiwiaW5mZXJlbmNlVHlwZSI6IlRJVExFIiwidmFsdWVzIjpbIlNob3AgTm93Il0sInZhbHVlVHlwZSI6Ik1VTFRJX1ZBTFVFRCJ9fX19fQ%3D%3D&otracker=clp_metro_expandable_1_3.metroExpandable.METRO_EXPANDABLE_Shop%2BNow_mobile-phones-store_Q1PDG4YW86MF_wp2&fm=neo%2Fmerchandising&iid=M_30199dbb-60d6-43fb-bd27-4821f8e573a1_3.Q1PDG4YW86MF&ppt=hp&ppn=homepage&ssid=dx9lb7york0000001667311760268&page=2"
   ]
  },
  {
   "cell_type": "markdown",
   "id": "c86e2752",
   "metadata": {},
   "source": [
    "**Response 2## the given link can read with no problem   Response 4## forbidden and does't given any link     Response 5## server is not ready**"
   ]
  },
  {
   "cell_type": "code",
   "execution_count": 85,
   "id": "7c442592",
   "metadata": {},
   "outputs": [
    {
     "data": {
      "text/plain": [
       "<Response [200]>"
      ]
     },
     "execution_count": 85,
     "metadata": {},
     "output_type": "execute_result"
    }
   ],
   "source": [
    "page= response.get(url)\n",
    "page"
   ]
  },
  {
   "cell_type": "markdown",
   "id": "8bd42dc2",
   "metadata": {},
   "source": [
    "## Parse The Code using HTML Parser"
   ]
  },
  {
   "cell_type": "code",
   "execution_count": 125,
   "id": "7c4d8998",
   "metadata": {},
   "outputs": [],
   "source": [
    "import pandas as pd\n",
    "def dataframe(url):\n",
    "    page= response.get(url)\n",
    "    soup1 = soup(page.text, \"html.parser\")\n",
    "    mobiles=[]\n",
    "    ratings=[]\n",
    "    price=[]\n",
    "    for th in soup1.findAll('div',{'class':'_4rR01T'}):\n",
    "        mobiles.append(th.text.strip())\n",
    "    for th in soup1.findAll('div',{'class':'_30jeq3 _1_WHN1'}):\n",
    "        price.append(th.text)\n",
    "    for th in soup1.findAll('div',{'class':'_3LWZlK'}):\n",
    "        ratings.append(th.text.strip())\n",
    "    ratings=ratings[:24] ## used for equal lengths .......\n",
    "    data={'Mobile_Name':mobiles,'Rating':ratings,'Price':price}\n",
    "    df=pd.DataFrame(data)\n",
    "    return df"
   ]
  },
  {
   "cell_type": "code",
   "execution_count": 139,
   "id": "228db0c1",
   "metadata": {},
   "outputs": [],
   "source": [
    "df=pd.DataFrame()\n",
    "for i in range(10):\n",
    "    url=\"https://www.flipkart.com/mobiles/pr?sid=tyy%2C4io&param=7564&ctx=eyJjYXJkQ29udGV4dCI6eyJhdHRyaWJ1dGVzIjp7InRpdGxlIjp7Im11bHRpVmFsdWVkQXR0cmlidXRlIjp7ImtleSI6InRpdGxlIiwiaW5mZXJlbmNlVHlwZSI6IlRJVExFIiwidmFsdWVzIjpbIlNob3AgTm93Il0sInZhbHVlVHlwZSI6Ik1VTFRJX1ZBTFVFRCJ9fX19fQ%3D%3D&otracker=clp_metro_expandable_1_3.metroExpandable.METRO_EXPANDABLE_Shop%2BNow_mobile-phones-store_Q1PDG4YW86MF_wp2&fm=neo%2Fmerchandising&iid=M_30199dbb-60d6-43fb-bd27-4821f8e573a1_3.Q1PDG4YW86MF&ppt=hp&ppn=homepage&ssid=dx9lb7york0000001667311760268&page={}\".format(i)\n",
    "    df=df.append(dataframe(url))"
   ]
  },
  {
   "cell_type": "code",
   "execution_count": 141,
   "id": "1ba8164e",
   "metadata": {},
   "outputs": [
    {
     "data": {
      "text/html": [
       "<div>\n",
       "<style scoped>\n",
       "    .dataframe tbody tr th:only-of-type {\n",
       "        vertical-align: middle;\n",
       "    }\n",
       "\n",
       "    .dataframe tbody tr th {\n",
       "        vertical-align: top;\n",
       "    }\n",
       "\n",
       "    .dataframe thead th {\n",
       "        text-align: right;\n",
       "    }\n",
       "</style>\n",
       "<table border=\"1\" class=\"dataframe\">\n",
       "  <thead>\n",
       "    <tr style=\"text-align: right;\">\n",
       "      <th></th>\n",
       "      <th>Mobile_Name</th>\n",
       "      <th>Rating</th>\n",
       "      <th>Price</th>\n",
       "    </tr>\n",
       "  </thead>\n",
       "  <tbody>\n",
       "    <tr>\n",
       "      <th>count</th>\n",
       "      <td>240</td>\n",
       "      <td>240</td>\n",
       "      <td>240</td>\n",
       "    </tr>\n",
       "    <tr>\n",
       "      <th>unique</th>\n",
       "      <td>180</td>\n",
       "      <td>12</td>\n",
       "      <td>86</td>\n",
       "    </tr>\n",
       "    <tr>\n",
       "      <th>top</th>\n",
       "      <td>realme C30 (Lake Blue, 32 GB)</td>\n",
       "      <td>4.3</td>\n",
       "      <td>₹11,999</td>\n",
       "    </tr>\n",
       "    <tr>\n",
       "      <th>freq</th>\n",
       "      <td>4</td>\n",
       "      <td>61</td>\n",
       "      <td>20</td>\n",
       "    </tr>\n",
       "  </tbody>\n",
       "</table>\n",
       "</div>"
      ],
      "text/plain": [
       "                          Mobile_Name Rating    Price\n",
       "count                             240    240      240\n",
       "unique                            180     12       86\n",
       "top     realme C30 (Lake Blue, 32 GB)    4.3  ₹11,999\n",
       "freq                                4     61       20"
      ]
     },
     "execution_count": 141,
     "metadata": {},
     "output_type": "execute_result"
    }
   ],
   "source": [
    "df.describe()"
   ]
  },
  {
   "cell_type": "code",
   "execution_count": null,
   "id": "9337aa57",
   "metadata": {},
   "outputs": [],
   "source": []
  }
 ],
 "metadata": {
  "kernelspec": {
   "display_name": "Python 3",
   "language": "python",
   "name": "python3"
  },
  "language_info": {
   "codemirror_mode": {
    "name": "ipython",
    "version": 3
   },
   "file_extension": ".py",
   "mimetype": "text/x-python",
   "name": "python",
   "nbconvert_exporter": "python",
   "pygments_lexer": "ipython3",
   "version": "3.8.8"
  }
 },
 "nbformat": 4,
 "nbformat_minor": 5
}
